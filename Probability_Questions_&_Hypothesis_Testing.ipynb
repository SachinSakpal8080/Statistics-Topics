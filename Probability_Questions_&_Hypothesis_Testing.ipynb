{
 "cells": [
  {
   "cell_type": "code",
   "execution_count": 1,
   "metadata": {},
   "outputs": [],
   "source": [
    "import numpy as np # import numpy \n",
    "import pandas as pd # import pandas\n",
    "import matplotlib.pyplot as plt # import visualization libraries\n",
    "%matplotlib inline\n",
    "import seaborn as sns\n",
    "\n",
    "import scipy.stats as stats # import stats\n",
    "\n",
    "import warnings\n",
    "warnings.filterwarnings('ignore')"
   ]
  },
  {
   "cell_type": "markdown",
   "metadata": {},
   "source": [
    "#### 1.\tSuppose weights of the checked baggage of airline passengers follow a nearly normal distribution with mean 45 pounds and standard deviation 3.2 pounds. Most airlines charge a fee for baggage that weigh in excess of 50 pounds.\n",
    "a. Determine what percent of airline passengers incur this fee?\n",
    "\n",
    "b. If the limit of baggage weight is decreased to 48 pounds, what percent of airline passengers do not incur fee? \n",
    "\n",
    "c. What should be the baggage limit in order to have at least 10 % of airline passengers incur fee."
   ]
  },
  {
   "cell_type": "code",
   "execution_count": 37,
   "metadata": {},
   "outputs": [
    {
     "name": "stdout",
     "output_type": "stream",
     "text": [
      "Z_Statistics:  1.5625\n",
      "5.91 % percent of airline passengers incur this fee\n"
     ]
    }
   ],
   "source": [
    "# 1.a.\n",
    "\n",
    "mu = 45 # popultion mean\n",
    "s_d = 3.2 # population standatd deviations\n",
    "x_bar = 50 # sample mean\n",
    "\n",
    "z_stats = (x_bar-mu)/s_d \n",
    "\n",
    "print('Z_Statistics: ', z_stats)\n",
    "\n",
    "print(round(1-stats.norm.cdf(z_stats),4)*100,'% percent of airline passengers incur this fee') # ans"
   ]
  },
  {
   "cell_type": "code",
   "execution_count": 38,
   "metadata": {},
   "outputs": [
    {
     "name": "stdout",
     "output_type": "stream",
     "text": [
      "Z_Statistics:  0.9375\n",
      "82.57 % percent of airline passengers will not incur this fee\n"
     ]
    }
   ],
   "source": [
    "# 1.b.\n",
    "x_bar_new = 48 # updated sample mean\n",
    "\n",
    "z_stats_updated = (x_bar_new-mu)/s_d\n",
    "\n",
    "print('Z_Statistics: ', z_stats_updated)\n",
    "\n",
    "print(round(stats.norm.cdf(z_stats_updated),4)*100,'% percent of airline passengers will not incur this fee') # ans"
   ]
  },
  {
   "cell_type": "code",
   "execution_count": 4,
   "metadata": {},
   "outputs": [
    {
     "name": "stdout",
     "output_type": "stream",
     "text": [
      "baggage limit will be 40.89903499025728 in order to have at least 10 % of airline passengers incur fee\n"
     ]
    }
   ],
   "source": [
    "# 1.c.\n",
    "p_val = 0.9 # probability \n",
    "print('baggage limit will be', stats.norm.isf(p_val)*s_d+mu, \n",
    "      'in order to have at least 10 % of airline passengers incur fee')"
   ]
  },
  {
   "cell_type": "markdown",
   "metadata": {},
   "source": [
    "#### 2. A principal of a prestigious city college claims that the average intelligence of the students of the college is above average.\n",
    "A random sample of 100 students IQ scores have a mean score of 115. The mean population mean IQ is 100 with a standard deviation of 15.\n",
    "\n",
    "###### Is there sufficient evidence to support the principal's claim?"
   ]
  },
  {
   "cell_type": "code",
   "execution_count": 39,
   "metadata": {},
   "outputs": [
    {
     "name": "stdout",
     "output_type": "stream",
     "text": [
      "1.6448536269514729\n",
      "10.0\n",
      "Reject null hypothesis. There is sufficient evidence to support the principal's claim\n"
     ]
    }
   ],
   "source": [
    "# null hypothesis: Average Intelligence = 100\n",
    "# alternate hypothesis: Average Intelligence > 100\n",
    "\n",
    "z_value_critical = stats.norm.isf(0.05)\n",
    "print(z_value_critical)\n",
    "\n",
    "mu = 100\n",
    "sd = 15\n",
    "x_bar = 115\n",
    "n = 100\n",
    "\n",
    "z_cal = (x_bar - mu) / (sd/np.sqrt(n))\n",
    "print(z_cal)\n",
    "\n",
    "if z_value_critical<z_cal:\n",
    "    print(\"Reject null hypothesis. There is sufficient evidence to support the principal's claim\")\n",
    "else:\n",
    "    print(\"We failed to reject null hypothesis. There is no sufficient evidence to support the principal's claim\")"
   ]
  },
  {
   "cell_type": "markdown",
   "metadata": {},
   "source": [
    "#### 3. Suppose that a doctor claims that 17 year olds have an average body temperature that is higher than the commonly accepted average human temperature of 98.6 degree F. A simple random statistical sample of 25 people, each of age 17 is selected.\n",
    "\n",
    "Temp = [98.56, 98.66, 97.54, 98.71, 99.22, 99.49, 98.14, 98.84, 99.28, 98.48, 98.88, 97.29, 98.88, 99.07, 98.81, 99.49, 98.57, 97.98, 97.75, 97.69, 99.28, 98.52, 98.82, 98.81, 98.22]"
   ]
  },
  {
   "cell_type": "code",
   "execution_count": 40,
   "metadata": {},
   "outputs": [
    {
     "name": "stdout",
     "output_type": "stream",
     "text": [
      "Mean Value:  98.59919999999998\n",
      "Variance Value:  0.5998258080476344\n",
      "Ttest_1sampResult(statistic=-0.006668602694974534, pvalue=0.9947343867528586)\n",
      "We failed to reject null hypothesis, there is no sufficient evidence to support the dr's claim\n"
     ]
    }
   ],
   "source": [
    "# null hypothesis: mean temperature = 98.6\n",
    "# alternate hypothesis: mean temperature > 98.6\n",
    "\n",
    "from scipy.stats import ttest_1samp # import suitable test\n",
    "\n",
    "temp = np.array([98.56, 98.66, 97.54, 98.71, 99.22, 99.49, 98.14, 98.84, 99.28, 98.48, 98.88, 97.29, 98.88, 99.07, \n",
    "                 98.81, 99.49, 98.57, 97.98, 97.75, 97.69, 99.28, 98.52, 98.82, 98.81, 98.22]) # all the observations\n",
    "\n",
    "temp_mean = temp.mean() # Sample mean\n",
    "temp_variance = np.std(temp, ddof=1) # Sample variance\n",
    "\n",
    "print('Mean Value: ', temp_mean) # print the sample mean value\n",
    "print('Variance Value: ', temp_variance) # print sample variance\n",
    "\n",
    "print(ttest_1samp(temp, 98.6)) # print test results\n",
    "\n",
    "if ttest_1samp(temp, 98.6)[1]<0.05:\n",
    "    print(\"reject null hypothesis, there is sufficient evidence to support the dr's claim\")\n",
    "else:\n",
    "    print(\"We failed to reject null hypothesis, there is no sufficient evidence to support the dr's claim\")"
   ]
  },
  {
   "cell_type": "markdown",
   "metadata": {},
   "source": [
    "#### 4. Compare two unrelated samples. Data was collected on the weight loss of 16 women and 20 men enrolled in a weight reduction program. At $\\alpha$ = 0.05, test whether the weight loss of these two samples is different.\n",
    "\n",
    "Weight_loss_Male   = [ 3.69, 4.12, 4.65, 3.19,  4.34, 3.68, 4.12, 4.50, 3.70, 3.09,3.65, 4.73, 3.93, 3.46, 3.28, 4.43, 4.13, 3.62, 3.71, 2.92]\n",
    "Weight_loss_Female = [2.99, 1.80, 3.79, 4.12, 1.76, 3.50, 3.61, 2.32, 3.67, 4.26, 4.57, 3.01, 3.82, 4.33, 3.40, 3.86]"
   ]
  },
  {
   "cell_type": "code",
   "execution_count": 41,
   "metadata": {},
   "outputs": [
    {
     "name": "stdout",
     "output_type": "stream",
     "text": [
      "Ttest_indResult(statistic=-1.827188295981286, pvalue=0.0764604205335295)\n",
      "We failed to reject null hypothesis, Weightloss of two samples is same\n"
     ]
    }
   ],
   "source": [
    "# null hypothesis: mean weight loss male - mean weight loss female = 0\n",
    "# alternate hypothesis: mean weight loss male - mean weight loss female != 0\n",
    "\n",
    "Weight_loss_Male = [ 3.69, 4.12, 4.65, 3.19, 4.34, 3.68, 4.12, 4.50, 3.70, 3.09,3.65, 4.73, 3.93, 3.46, 3.28, \n",
    "                    4.43, 4.13, 3.62, 3.71, 2.92] \n",
    "Weight_loss_Female = [2.99, 1.80, 3.79, 4.12, 1.76, 3.50, 3.61, 2.32, 3.67, 4.26, 4.57, 3.01, 3.82, 4.33, 3.40, 3.86]\n",
    "\n",
    "from scipy.stats import ttest_ind\n",
    "\n",
    "print(ttest_ind(Weight_loss_Female, Weight_loss_Male))\n",
    "\n",
    "if ttest_ind(Weight_loss_Female, Weight_loss_Male)[1]<0.05:\n",
    "    print('Reject null hypothesis, There is sufficient evidance that weightloss of two samples is different')\n",
    "else:\n",
    "    print('We failed to reject null hypothesis, Weightloss of two samples is same')"
   ]
  },
  {
   "cell_type": "markdown",
   "metadata": {},
   "source": [
    "#### 5. Compare the following two unrelated samples. Data was collected on the weight of women and men enrolled in a weight reduction program. At $\\alpha$ = 0.05, test whether the weight of these two samples is different.\n",
    "Weight_Female = [ 53.8, 54.4, 51.2, 52.5, 61.0, 50.6, 51.6, 70.0]  \n",
    "Weight_Male = [ 72.5, 80.3, 71.3, 67.7, 66.2, 73.4, 61.3, 76.8]"
   ]
  },
  {
   "cell_type": "code",
   "execution_count": 42,
   "metadata": {},
   "outputs": [
    {
     "name": "stdout",
     "output_type": "stream",
     "text": [
      "Ttest_indResult(statistic=-4.886344172533444, pvalue=0.00024034957515992796)\n",
      "Reject null hypothesis, There is sufficient evidance that weight of two samples is different\n"
     ]
    }
   ],
   "source": [
    "# null hypothesis: mean weight male - mean weight female = 0\n",
    "# alternate hypothesis: mean weight male - mean weight female != 0\n",
    "\n",
    "Weight_Female = [ 53.8, 54.4, 51.2, 52.5, 61.0, 50.6, 51.6, 70.0]\n",
    "Weight_Male = [ 72.5, 80.3, 71.3, 67.7, 66.2, 73.4, 61.3, 76.8]\n",
    "\n",
    "\n",
    "from scipy.stats import ttest_ind\n",
    "\n",
    "print(ttest_ind(Weight_Female, Weight_Male))\n",
    "\n",
    "if ttest_ind(Weight_Female, Weight_Male)[1]<0.05:\n",
    "    print('Reject null hypothesis, There is sufficient evidance that weight of two samples is different')\n",
    "else:\n",
    "    print('We failed to reject null hypothesis, There is no sufficient evidance that weight of samples are different')"
   ]
  },
  {
   "cell_type": "markdown",
   "metadata": {},
   "source": [
    "#### 6. Compare two related samples. Data was collected on the marks scored by 25 students in their final practice exam and the marks scored by the students after attending special coaching classes conducted by their college. At 5% level of significance, is there any evidence that the coaching classes has any effect on the marks scored.\n",
    "\n",
    "Marks_before = [ 52, 56, 61, 47, 58, 52, 56, 60, 52, 46, 51, 62, 54, 50, 48, 59, 56, 51, 52, 44, 52, 45, 57, 60, 45]  \n",
    "Marks_after  = [62, 64, 40, 65, 76, 82, 53, 68, 77, 60, 69, 34, 69, 73, 67, 82, 62, 49, 44, 43, 77, 61, 67, 67, 54]"
   ]
  },
  {
   "cell_type": "code",
   "execution_count": 43,
   "metadata": {},
   "outputs": [
    {
     "name": "stdout",
     "output_type": "stream",
     "text": [
      "Ttest_relResult(statistic=3.404831324883169, pvalue=0.0023297583680290364)\n",
      "\n",
      "Reject null hypothesis. There is sufficient evidance that coaching classes have effect on scored marks\n"
     ]
    }
   ],
   "source": [
    "# null hypothesis: average marks after - average marks before = 0\n",
    "# alternate hypothesis: average marks after - average marks before != 0\n",
    "\n",
    "Marks_before = [ 52, 56, 61, 47, 58, 52, 56, 60, 52, 46, 51, 62, 54, 50, 48, 59, 56, 51, 52, 44, 52, 45, 57, 60, 45]\n",
    "Marks_after = [62, 64, 40, 65, 76, 82, 53, 68, 77, 60, 69, 34, 69, 73, 67, 82, 62, 49, 44, 43, 77, 61, 67, 67, 54]\n",
    "\n",
    "from scipy.stats import ttest_rel\n",
    "\n",
    "print(ttest_rel(Marks_after, Marks_before))\n",
    "\n",
    "if ttest_rel(Marks_after, Marks_before)[1]<0.05:\n",
    "    print('\\nReject null hypothesis. There is sufficient evidance that coaching classes have effect on scored marks')\n",
    "else:\n",
    "    print('\\nFailed to reject null hypothesis. There is no evidance that coaching classes have effect on marks')"
   ]
  },
  {
   "cell_type": "markdown",
   "metadata": {},
   "source": [
    "#### 7. Alchohol consumption before and after love failure is given in the following table. Conduct a paired t test to check whether the alcholhol consumption is more after the love failure at 5% level of significance.\n",
    "\n",
    "Alchohol_Consumption_before = [470, 354, 496, 351, 349, 449, 378, 359, 469, 329, 389, 497, 493, 268, 445, 287, 338, 271, 412, 335]\n",
    "Alchohol_Consumption_after  = [408, 439, 321, 437, 335, 344, 318, 492, 531, 417, 358, 391, 398, 394, 508, 399, 345, 341, 326, 467]"
   ]
  },
  {
   "cell_type": "code",
   "execution_count": 44,
   "metadata": {},
   "outputs": [
    {
     "name": "stdout",
     "output_type": "stream",
     "text": [
      "Ttest_relResult(statistic=0.5375404241815105, pvalue=0.5971346738292477)\n",
      "\n",
      "Failed to reject null hypothesis. There is no evidance that love failure effects on alcohol consumption\n"
     ]
    }
   ],
   "source": [
    "# null hypothesis: alcohol consumption after - alcohol consumption before = 0\n",
    "# alternate hypothesis: alcohol consumption after - alcohol consumption before != 0\n",
    "\n",
    "Alchohol_Consumption_before = [470, 354, 496, 351, 349, 449, 378, 359, 469, 329, 389, 497, 493, 268, 445, 287, \n",
    "                               338, 271, 412, 335] \n",
    "Alchohol_Consumption_after = [408, 439, 321, 437, 335, 344, 318, 492, 531, 417, 358, 391, 398, 394, 508, 399, \n",
    "                              345, 341, 326, 467]\n",
    "\n",
    "from scipy.stats import ttest_rel\n",
    "\n",
    "print(ttest_rel(Alchohol_Consumption_after, Alchohol_Consumption_before))\n",
    "\n",
    "if ttest_rel(Alchohol_Consumption_after, Alchohol_Consumption_before)[1]<0.05:\n",
    "    print('\\nReject null hypothesis. There is sufficient evidance that love failure effects on alcohol consumption')\n",
    "else:\n",
    "    print('\\nFailed to reject null hypothesis. There is no evidance that love failure effects on alcohol consumption')"
   ]
  },
  {
   "cell_type": "markdown",
   "metadata": {},
   "source": [
    "#### 8. Here weight of 25 people were recorded before they had a new therapy and then again 6 months later. Check if new therapy leads to a change in weight.\n",
    "wt_before = [76, 76, 72, 73, 64, 63, 75, 75, 71, 76, 71, 76, 78, 73, 76, 70, 71, 82, 84, 68, 70, 68, 66, 67, 74]   \n",
    "wt_after  = [63, 72, 67, 69, 58, 59, 70, 71, 70, 71, 68, 71, 72, 69, 72, 67, 67, 78, 79, 62, 67, 63, 61, 63, 69]    \n",
    "At 5% level of significance, is there any evidence that the new therapy has any effect on the weight of the participants?"
   ]
  },
  {
   "cell_type": "code",
   "execution_count": 45,
   "metadata": {},
   "outputs": [
    {
     "name": "stdout",
     "output_type": "stream",
     "text": [
      "Ttest_relResult(statistic=-11.381954836452902, pvalue=3.7046511777805025e-11)\n",
      "\n",
      "Reject null hypothesis. There is sufficient evidance that therapy effects on weight loss\n"
     ]
    }
   ],
   "source": [
    "# null hypothesis: average weight after therapy - average weight before therapy = 0\n",
    "# alternate hypothesis: average weight after therapy - average weight before therapy != 0\n",
    "\n",
    "wt_before = [76, 76, 72, 73, 64, 63, 75, 75, 71, 76, 71, 76, 78, 73, 76, 70, 71, 82, 84, 68, 70, 68, 66, 67, 74]\n",
    "wt_after = [63, 72, 67, 69, 58, 59, 70, 71, 70, 71, 68, 71, 72, 69, 72, 67, 67, 78, 79, 62, 67, 63, 61, 63, 69]\n",
    "\n",
    "from scipy.stats import ttest_rel\n",
    "\n",
    "print(ttest_rel(wt_after, wt_before))\n",
    "\n",
    "if ttest_rel(wt_after, wt_before)[1]<0.05:\n",
    "    print('\\nReject null hypothesis. There is sufficient evidance that therapy effects on weight loss')\n",
    "else:\n",
    "    print('\\nFailed to reject null hypothesis. There is no evidance that therapy effects on weight loss')"
   ]
  },
  {
   "cell_type": "markdown",
   "metadata": {},
   "source": [
    "#### 9.The following data represent the amount of soft drink filled in a sample of 50 consecutive 2-liter bottles as shown below:\n",
    "\n",
    "volume = [2.109, 2.086, 2.066, 2.075, 2.065, 2.057, 2.052, 2.044, 2.036, 2.038, \n",
    "          2.031, 2.029, 2.025, 2.029, 2.023, 2.020, 2.015, 2.014, 2.013, 2.014, \n",
    "          2.012, 2.012, 2.012, 2.010, 2.005, 2.003, 1.999, 1.996, 1.997, 1.992, \n",
    "          1.994, 1.986, 1.984, 1.981, 1.973, 1.975, 1.971, 1.969, 1.966, 1.967, \n",
    "          1.963, 1.957, 1.951, 1.951, 1.947, 1.941, 1.941, 1.938, 1.908, 1.894]\n",
    "\n",
    "At 5% level of significance, is there evidence that the mean amount of soft drink filled is different from 2 litres?"
   ]
  },
  {
   "cell_type": "code",
   "execution_count": 46,
   "metadata": {},
   "outputs": [
    {
     "name": "stdout",
     "output_type": "stream",
     "text": [
      "Mean Value:  2.00072\n",
      "Variance Value:  0.04456366232705744\n",
      "\n",
      " Ttest_1sampResult(statistic=0.11424484790269986, pvalue=0.9095105442498921)\n",
      "\n",
      "Reject null hypothesis.\n",
      "There is sufficient evidence that mean amount of soft drink filled is different from 2 litres\n"
     ]
    }
   ],
   "source": [
    "# null hypothesis: mean amount = 2\n",
    "# alternate hypothesis: mean amount != 2\n",
    "\n",
    "from scipy.stats import ttest_1samp # import suitable test\n",
    "\n",
    "volume = np.array([2.109, 2.086, 2.066, 2.075, 2.065, 2.057, 2.052, 2.044, 2.036, 2.038, \n",
    "                   2.031, 2.029, 2.025, 2.029, 2.023, 2.020, 2.015, 2.014, 2.013, 2.014, \n",
    "                   2.012, 2.012, 2.012, 2.010, 2.005, 2.003, 1.999, 1.996, 1.997, 1.992, \n",
    "                   1.994, 1.986, 1.984, 1.981, 1.973, 1.975, 1.971, 1.969, 1.966, 1.967, \n",
    "                   1.963, 1.957, 1.951, 1.951, 1.947, 1.941, 1.941, 1.938, 1.908, 1.894]) # all the observations\n",
    "\n",
    "volume_mean = volume.mean() # Sample mean\n",
    "volume_variance = np.std(volume, ddof=1) # Sample variance\n",
    "\n",
    "print('Mean Value: ', volume_mean) # print the sample mean value\n",
    "print('Variance Value: ', volume_variance) # print sample variance\n",
    "\n",
    "print('\\n',ttest_1samp(volume, 2.0)) # print test results\n",
    "\n",
    "if ttest_1samp(volume, 2.5)[1]<0.05:\n",
    "    print(\"\\nReject null hypothesis.\")\n",
    "    print('There is sufficient evidence that mean amount of soft drink filled is different from 2 litres')\n",
    "else:\n",
    "    print(\"\\nFailed to reject null hypothesis.\")\n",
    "    print('There is not sufficient evidence that mean amount of soft drink filled is different from 2 litres')"
   ]
  },
  {
   "cell_type": "markdown",
   "metadata": {},
   "source": [
    "#### 10.Sugar consumption in grams of 20 patients (both diabetic and non-diabetic) are given below:\n",
    "\n",
    "At 5% level of significance, is there evidence that the mean sugar consumption is different for diabetic and non-diabetic?** In the following table, 0 means diabetic and 1 means non-diabetic.\n",
    "\n",
    "[[9.31, 0],[7.76, 0],[6.98, 1],[7.88, 1],[8.49, 1],[10.05, 1],[8.80, 1],[10.88, 1],[6.13, 1], [7.90, 1], [11.51, 0],[12.59, 0],[7.05, 1],[11.85, 0],[9.99, 0],[7.48, 0],[8.79, 0],[8.69, 1],[9.68, 0],[8.58, 1], [9.19, 0],[8.11, 1]]"
   ]
  },
  {
   "cell_type": "code",
   "execution_count": 47,
   "metadata": {},
   "outputs": [
    {
     "name": "stdout",
     "output_type": "stream",
     "text": [
      "Ttest_indResult(statistic=2.3730593333971224, pvalue=0.02777741611352253)\n",
      "\n",
      "Reject null hypothesis.\n",
      "There is sufficient evidence that mean sugar consumption is different for diabetic and non-diabetic\n"
     ]
    }
   ],
   "source": [
    "# null hypothesis: mean sugar consumption of diabetic = mean sugar consumption of non-diabetic\n",
    "# alternate hypothesis: mean sugar consumption of diabetic != mean sugar consumption of non-diabetic\n",
    "\n",
    "consumption = np.array([[9.31, 0],[7.76, 0],[6.98, 1],[7.88, 1],[8.49, 1],[10.05, 1],[8.80, 1],[10.88, 1],\n",
    "                        [6.13, 1],[7.90, 1], [11.51, 0],[12.59, 0],[7.05, 1],[11.85, 0],[9.99, 0],[7.48, 0],\n",
    "                        [8.79, 0],[8.69, 1],[9.68, 0],[8.58, 1], [9.19, 0],[8.11, 1]])\n",
    "\n",
    "sugar_diabetic = consumption[:,1] == 0\n",
    "sugar_diabetic = consumption[sugar_diabetic][:,0]\n",
    "sugar_non_diabetic = consumption[:,1] == 1\n",
    "sugar_non_diabetic = consumption[sugar_non_diabetic][:,0]\n",
    "\n",
    "from scipy.stats import ttest_ind\n",
    "\n",
    "print(ttest_ind(sugar_diabetic, sugar_non_diabetic))\n",
    "\n",
    "if ttest_ind(sugar_diabetic, sugar_non_diabetic)[1]<0.05:\n",
    "    print('\\nReject null hypothesis.')\n",
    "    print('There is sufficient evidence that mean sugar consumption is different for diabetic and non-diabetic')\n",
    "else:\n",
    "    print('We failed to reject the null hypothesis.')\n",
    "    print('There is no sufficient evidence that mean sugar consumption is different for diabetic and non-diabetic')"
   ]
  },
  {
   "cell_type": "markdown",
   "metadata": {},
   "source": [
    "#### 11. The delivery time of Pizza from an online food deliery service firm and the home delivery from a local restaurant are given below: At 5% level of significance, is the mean delivery time for online delivery food service firm is less than the mean delivery time for the home delivery from a local restaurant.\n",
    "\n",
    "Pizza_delivery_online = [16.8, 11.7, 15.6, 16.7, 17.5, 18.1, 14.1, 21.8, 13.9, 20.8]   \n",
    "Pizza_delivery_local  = [22.0, 15.2, 18.7, 15.6, 20.8, 19.5, 17.0, 19.5, 16.5, 24.0]"
   ]
  },
  {
   "cell_type": "code",
   "execution_count": 48,
   "metadata": {},
   "outputs": [
    {
     "name": "stdout",
     "output_type": "stream",
     "text": [
      "Ttest_indResult(statistic=1.6341014912018457, pvalue=0.11960554332464257)\n",
      "\n",
      "We failed to reject the null hypothesis.\n",
      "There is no sufficient evidence that mean delivery time on online is less than the local\n"
     ]
    }
   ],
   "source": [
    "# null hypothesis: mean delivery time of online = mean delivery time of local\n",
    "# alternate hypothesis: mean delivery time of online < mean delivery time of local\n",
    "\n",
    "Pizza_delivery_online = [16.8, 11.7, 15.6, 16.7, 17.5, 18.1, 14.1, 21.8, 13.9, 20.8]\n",
    "Pizza_delivery_local = [22.0, 15.2, 18.7, 15.6, 20.8, 19.5, 17.0, 19.5, 16.5, 24.0]\n",
    "\n",
    "from scipy.stats import ttest_ind\n",
    "\n",
    "print(ttest_ind(Pizza_delivery_local, Pizza_delivery_online))\n",
    "\n",
    "if ttest_ind(Pizza_delivery_local, Pizza_delivery_online)[1]<0.05:\n",
    "    print('\\nReject null hypothesis.')\n",
    "    print('There is sufficient evidence that mean delivery time on online is less than the local')\n",
    "else:\n",
    "    print('\\nWe failed to reject the null hypothesis.')\n",
    "    print('There is no sufficient evidence that mean delivery time on online is less than the local')"
   ]
  },
  {
   "cell_type": "markdown",
   "metadata": {},
   "source": [
    "#### 12.The fill amount in 2-liter soft drink bottles is normally distributed, with a mean of 2.0 liters and a standard deviation of 0.05 liter. If the bottles contain less than 95% of the listed net content (1.90 liters, in our case), the manufacturer may be subject to penalty by the state office of consumer affairs. Bottles that have a net content above 2.1 liters may cause excess spillage upon opening. What is the proportion of bottles that will contain\n",
    "\n",
    "a) between 1.9 and 2.0 liters   \n",
    "b) between 1.9 and 2.1 liters    \n",
    "c) below 1.9 liters or above 2.1 liters    \n",
    "d) At least how much soft drink is contained in 99% of the bottles?"
   ]
  },
  {
   "cell_type": "code",
   "execution_count": 49,
   "metadata": {},
   "outputs": [
    {
     "name": "stdout",
     "output_type": "stream",
     "text": [
      "proportion of bottles that will contain between 1.9 and 2.0 liters is  47.72 %\n"
     ]
    }
   ],
   "source": [
    "# 12.a.\n",
    "mu = 2\n",
    "sd = 0.05\n",
    "\n",
    "print('proportion of bottles that will contain between 1.9 and 2.0 liters is ',\n",
    "     round(stats.norm.cdf(2.0, mu, sd) - stats.norm.cdf(1.9, mu, sd),4)*100,'%')"
   ]
  },
  {
   "cell_type": "code",
   "execution_count": 50,
   "metadata": {},
   "outputs": [
    {
     "name": "stdout",
     "output_type": "stream",
     "text": [
      "proportion of bottles that will contain between 1.9 and 2.1 liters is  95.45 %\n"
     ]
    }
   ],
   "source": [
    "# 12.b.\n",
    "print('proportion of bottles that will contain between 1.9 and 2.1 liters is ',\n",
    "     round(stats.norm.cdf(2.1, mu, sd) - stats.norm.cdf(1.9, mu, sd),4)*100,'%')"
   ]
  },
  {
   "cell_type": "code",
   "execution_count": 51,
   "metadata": {},
   "outputs": [
    {
     "name": "stdout",
     "output_type": "stream",
     "text": [
      "Proportion of bottles that will contain below 1.9 liters or above 2.1 liters 4.55 %\n"
     ]
    }
   ],
   "source": [
    "# 12.c.\n",
    "print('Proportion of bottles that will contain below 1.9 liters or above 2.1 liters',\n",
    "      round((stats.norm.cdf(1.9, mu , sd) + (1 - stats.norm.cdf(2.1 , mu , sd))),4)*100,'%')"
   ]
  },
  {
   "cell_type": "code",
   "execution_count": 52,
   "metadata": {},
   "outputs": [
    {
     "name": "stdout",
     "output_type": "stream",
     "text": [
      "1.8837 litre soft drink is contained in 99% of the bottles.\n"
     ]
    }
   ],
   "source": [
    "# 12.d.\n",
    "print(round(stats.norm.isf(0.99 , mu , sd),4), 'litre soft drink is contained in 99% of the bottles.')"
   ]
  },
  {
   "cell_type": "markdown",
   "metadata": {},
   "source": [
    "#### 13.The following table contains the age of the vistors in the cricket stadium ( n =50).**\n",
    "\n",
    "mpg = [38,36,31,30, 28,25, 26, 20, 20, 20, 21, 19, 21, 19, 21, 20, 20, 20, 19, 21, \n",
    "                21, 22, 20, 22, 20, 20, 22, 20, 22, 21, 19, 19, 20, 20, 21, 20, 19, 18, 20, \n",
    "                21, 21, 20, 21, 21, 20,  21, 24, 32, 35,38]\n",
    "\n",
    "Decide whether the data appears to be normally distributed by    \n",
    "a. Mean and median"
   ]
  },
  {
   "cell_type": "code",
   "execution_count": 53,
   "metadata": {},
   "outputs": [
    {
     "name": "stdout",
     "output_type": "stream",
     "text": [
      "Mean:  22.7\n",
      "Median:  21.0\n"
     ]
    },
    {
     "data": {
      "image/png": "[encoded data removed]",
      "text/plain": [
       "<Figure size 432x288 with 1 Axes>"
      ]
     },
     "metadata": {
      "needs_background": "light"
     },
     "output_type": "display_data"
    }
   ],
   "source": [
    "mpg = np.array([38, 36, 31, 30, 28,25, 26, 20, 20, 20, 21, 19, 21, 19, 21, 20, 20, 20, 19, 21, 21, 22, 20, 22, 20,\n",
    "                20, 22, 20, 22, 21, 19, 19, 20, 20, 21, 20, 19, 18, 20, 21, 21, 20, 21, 21, 20, 21, 24, 32, 35, 38])\n",
    "mean_mpg = np.mean(mpg)\n",
    "median_mpg = np.median(mpg)\n",
    "\n",
    "print('Mean: ', mean_mpg)\n",
    "print('Median: ', median_mpg)\n",
    "\n",
    "sns.distplot(mpg)\n",
    "plt.show()"
   ]
  },
  {
   "cell_type": "markdown",
   "metadata": {},
   "source": [
    "#### 14.The mean filling capacity for a coke bottle is 500 ml with a standard deviation of 20ml. The random variable filled capacity of the bottles follows a normal distribution.**\n",
    "\n",
    "a. What is the probability that the bottle filled less than 480 ml?   \n",
    "b. What is the probability that the bottle filled more than 520 ml?   \n",
    "c. What is the probability that the bottle filled between 470 ml to 525 ml?"
   ]
  },
  {
   "cell_type": "code",
   "execution_count": 54,
   "metadata": {},
   "outputs": [
    {
     "name": "stdout",
     "output_type": "stream",
     "text": [
      "Probability that the bottle filled less than 480 ml is:  0.1587\n"
     ]
    }
   ],
   "source": [
    "# 14.a.\n",
    "mu = 500\n",
    "sd = 20\n",
    "print('Probability that the bottle filled less than 480 ml is: ', round(stats.norm.cdf(480, mu, sd),4))"
   ]
  },
  {
   "cell_type": "code",
   "execution_count": 55,
   "metadata": {},
   "outputs": [
    {
     "name": "stdout",
     "output_type": "stream",
     "text": [
      "Probability that the bottle filled more than 520 ml is:  0.1587\n"
     ]
    }
   ],
   "source": [
    "# 14.b.\n",
    "print('Probability that the bottle filled more than 520 ml is: ', round(1 - stats.norm.cdf(520, mu, sd),4))"
   ]
  },
  {
   "cell_type": "code",
   "execution_count": 56,
   "metadata": {},
   "outputs": [
    {
     "name": "stdout",
     "output_type": "stream",
     "text": [
      "Probability that the bottle filled between 470 ml to 525 ml is:  0.8275\n"
     ]
    }
   ],
   "source": [
    "# 14.c.\n",
    "print('Probability that the bottle filled between 470 ml to 525 ml is: ', \n",
    "      round(stats.norm.cdf(525, mu, sd) - stats.norm.cdf(470, mu, sd),4))"
   ]
  },
  {
   "cell_type": "markdown",
   "metadata": {},
   "source": [
    "#### 15.Hindustan Pencils Pvt. Ltd. is an Indian manufacturer of pencils, writing materials and other stationery items, established in 1958 in Mumbai. Nataraj brand of pencils manufactured by the company is expected to have a mean length of 172 mm and the standard deviation of the length is 0.02 mm. To ensure quality, a sample is selected at periodic intervals to determine whether the length is still 172 mm and other dimensions of the pencil meet the quality standards set by the company.You select a random sample of 100 pencils follows a normal distribution and the mean is 170 mm.**\n",
    "\n",
    "a).Construct a 99% confidence interval for the pencil length."
   ]
  },
  {
   "cell_type": "code",
   "execution_count": 57,
   "metadata": {},
   "outputs": [
    {
     "name": "stdout",
     "output_type": "stream",
     "text": [
      "99% confidence interval:  (171.9948483413929, 172.0051516586071)\n"
     ]
    }
   ],
   "source": [
    "x_bar = 172\n",
    "sample_sd = 0.02\n",
    "n = 100\n",
    "sd = sample_sd/np.sqrt(n)\n",
    "\n",
    "print('99% confidence interval: ', stats.norm.interval(0.99, 172, sd))"
   ]
  },
  {
   "cell_type": "markdown",
   "metadata": {},
   "source": [
    "#### 16. The percentage of orders filled correctly at Wendy's was approximately 86.8%. Suppose that you go to drive-through window at Wendy's and place an order. Two friends of yours independently place orders at the drive-through window at the same Wendy's.\n",
    "\n",
    "What are the probabilities that\n",
    "\n",
    "a) all three  \n",
    "b) none of the three  \n",
    "c) atleast two of the three orders will be filled correctly?  \n",
    "d) what is the mean and standard deviation of the orders filled correctly?  \n",
    "e) Plot the binomial distribution function  "
   ]
  },
  {
   "cell_type": "code",
   "execution_count": 58,
   "metadata": {},
   "outputs": [
    {
     "name": "stdout",
     "output_type": "stream",
     "text": [
      "all the three orders are filled correctly:  0.653972032\n"
     ]
    }
   ],
   "source": [
    "# 16.a.\n",
    "p = 0.868 # percentage of orders filled correctly at Wendy's was approximately 86.8%\n",
    "q = 1 - p\n",
    "n = 3\n",
    "k = np.arange(0,4)\n",
    "print('all the three orders are filled correctly: ' , stats.binom.pmf(3,n,p))"
   ]
  },
  {
   "cell_type": "code",
   "execution_count": 59,
   "metadata": {},
   "outputs": [
    {
     "name": "stdout",
     "output_type": "stream",
     "text": [
      "none of the three orders are filled correctly:  0.002299968\n"
     ]
    }
   ],
   "source": [
    "# 16.b.\n",
    "print('none of the three orders are filled correctly: ' , stats.binom.pmf(0,n,p) )"
   ]
  },
  {
   "cell_type": "code",
   "execution_count": 60,
   "metadata": {},
   "outputs": [
    {
     "name": "stdout",
     "output_type": "stream",
     "text": [
      "atleast two of the three orders will be filled correctly:  0.9523279359999999\n"
     ]
    }
   ],
   "source": [
    "# 16.c.\n",
    "print('atleast two of the three orders will be filled correctly: ',\n",
    "     stats.binom.pmf(2,n,p) + stats.binom.pmf(3,n,p))"
   ]
  },
  {
   "cell_type": "code",
   "execution_count": 61,
   "metadata": {},
   "outputs": [
    {
     "name": "stdout",
     "output_type": "stream",
     "text": [
      "Mean:  2.604\n",
      "SD:  0.5862832080146932\n"
     ]
    }
   ],
   "source": [
    "# 16.d.\n",
    "mean = n*p\n",
    "var = n*p*q\n",
    "sd = np.sqrt(var)\n",
    "print('Mean: ', mean)\n",
    "print('SD: ', sd)"
   ]
  },
  {
   "cell_type": "code",
   "execution_count": 62,
   "metadata": {},
   "outputs": [
    {
     "data": {
      "image/png": "[encoded data removed]",
      "text/plain": [
       "<Figure size 432x288 with 1 Axes>"
      ]
     },
     "metadata": {
      "needs_background": "light"
     },
     "output_type": "display_data"
    }
   ],
   "source": [
    "# 16.e.\n",
    "binomial = stats.binom.pmf(k,n,p)\n",
    "plt.plot(k, binomial, marker= '*')\n",
    "plt.show()"
   ]
  },
  {
   "cell_type": "markdown",
   "metadata": {},
   "source": [
    "#### 17. A Life Insurance agent sells on the average 3 life insurance policies per week. Use the Poisson law to calculate the probability that in a given week, he will sell\n",
    "\n",
    "a) Some policies  \n",
    "b) 2 or more but less than 5 policies?  \n",
    "c) Plot the Poisson distribution function?  \n",
    "Here 𝜆 = 3"
   ]
  },
  {
   "cell_type": "code",
   "execution_count": 63,
   "metadata": {},
   "outputs": [
    {
     "name": "stdout",
     "output_type": "stream",
     "text": [
      "[4.97870684e-02 1.49361205e-01 2.24041808e-01 2.24041808e-01\n",
      " 1.68031356e-01 1.00818813e-01 5.04094067e-02 2.16040315e-02\n",
      " 8.10151179e-03 2.70050393e-03 8.10151179e-04 2.20950322e-04\n",
      " 5.52375804e-05 1.27471339e-05 2.73152870e-06 5.46305740e-07]\n",
      "\n",
      " [ 0  1  2  3  4  5  6  7  8  9 10 11 12 13 14 15]\n",
      "\n",
      "Probability that the agent sells some policies:  0.950212931632136\n"
     ]
    }
   ],
   "source": [
    "# 17.a.\n",
    "rate =  3 # which is the mean\n",
    "n    =  np.arange(0,16)\n",
    "poisson = stats.poisson.pmf(n,rate)\n",
    "print(poisson)\n",
    "print('\\n',n)\n",
    "\n",
    "print('\\nProbability that the agent sells some policies: ' , 1 - poisson[0])"
   ]
  },
  {
   "cell_type": "code",
   "execution_count": 64,
   "metadata": {},
   "outputs": [
    {
     "name": "stdout",
     "output_type": "stream",
     "text": [
      "Agent sells 2 or more but less than 5 policies:  0.6161149710523164\n"
     ]
    }
   ],
   "source": [
    "# 17.b.\n",
    "print('Agent sells 2 or more but less than 5 policies: ' , poisson[2]+poisson[3]+poisson[4])"
   ]
  },
  {
   "cell_type": "code",
   "execution_count": 65,
   "metadata": {},
   "outputs": [
    {
     "data": {
      "image/png": "[encoded data removed]",
      "text/plain": [
       "<Figure size 432x288 with 1 Axes>"
      ]
     },
     "metadata": {
      "needs_background": "light"
     },
     "output_type": "display_data"
    }
   ],
   "source": [
    "# 17.c.\n",
    "plt.plot(n, poisson, marker= '*')\n",
    "plt.title('Poisson')\n",
    "plt.xlabel('Number of policies')\n",
    "plt.ylabel('Probability')\n",
    "plt.show()"
   ]
  },
  {
   "cell_type": "markdown",
   "metadata": {},
   "source": [
    "#### 18. The mean salaries of Data Scientists working in Chennai, India is calculated to be 7,00,000 INR with a standard deviation of 90,000 INR. The random variable salary of Data Scientists follows a normal distribution.\n",
    "\n",
    "a) What is the probability that a Data Scientist in Chennai has a salary more than 10,00,000 INR?  \n",
    "b) What is the probability that a Data Scientist in Chennai has a salary between 6,00,000 & 9,00,000 INR?   \n",
    "c) What is the probability that a Data Scientist in Chennai has a salary less than 4,00,000 INR?"
   ]
  },
  {
   "cell_type": "code",
   "execution_count": 66,
   "metadata": {},
   "outputs": [
    {
     "name": "stdout",
     "output_type": "stream",
     "text": [
      "probability that a Data Scientist in Chennai has a salary more than 10,00,000 INR 0.0004290603331967846\n"
     ]
    }
   ],
   "source": [
    "# 18.a.\n",
    "print('probability that a Data Scientist in Chennai has a salary more than 10,00,000 INR' , \n",
    "      1 - stats.norm.cdf(1000000,loc=700000,scale=90000))"
   ]
  },
  {
   "cell_type": "code",
   "execution_count": 67,
   "metadata": {},
   "outputs": [
    {
     "name": "stdout",
     "output_type": "stream",
     "text": [
      "probability that a Data Scientist in Chennai has a salary between 6,00,000 & 9,00,000 INR 0.8536055914064735\n"
     ]
    }
   ],
   "source": [
    "# 18.b.\n",
    "print('probability that a Data Scientist in Chennai has a salary between 6,00,000 & 9,00,000 INR' ,\n",
    "      stats.norm.cdf(900000,loc=700000,scale=90000) - stats.norm.cdf(600000,loc=700000,scale=90000))"
   ]
  },
  {
   "cell_type": "code",
   "execution_count": 68,
   "metadata": {},
   "outputs": [
    {
     "name": "stdout",
     "output_type": "stream",
     "text": [
      "probability that a Data Scientist in Chennai has a salary less than 4,00,000 INR 0.0004290603331968372\n"
     ]
    }
   ],
   "source": [
    "# 18.c.\n",
    "print('probability that a Data Scientist in Chennai has a salary less than 4,00,000 INR' ,\n",
    "      stats.norm.cdf(400000,loc=700000,scale=90000))"
   ]
  },
  {
   "cell_type": "markdown",
   "metadata": {},
   "source": [
    "#### 19. A sample of 100 diabetic patients was chosen to estimate the length of stay at a local hospital. The sample was 4.5 days and the population standard deviation was known to be 1.2 days.**\n",
    "\n",
    "a) Calculate the 99% confidence interval for the population mean."
   ]
  },
  {
   "cell_type": "code",
   "execution_count": 69,
   "metadata": {},
   "outputs": [
    {
     "name": "stdout",
     "output_type": "stream",
     "text": [
      "99% Confidence Inerval:  (4.190900483574132, 4.809099516425868)\n"
     ]
    }
   ],
   "source": [
    "n = 100\n",
    "mu = 4.5\n",
    "sample_sd = 1.2\n",
    "sd = sample_sd/np.sqrt(n)\n",
    "\n",
    "print('99% Confidence Inerval: ', stats.norm.interval(0.99 , mu , sd))"
   ]
  },
  {
   "cell_type": "markdown",
   "metadata": {},
   "source": [
    "#### 20. Time taken to resolve a customer complaints in days of 100 customers in a Service Organization is given below:**\n",
    "\n",
    " |      |      |      |      |      |      |      |      |      |      |\n",
    " | ---  | ---- | ---- | ---- | ---- | ---- | ---- | ---- | ---- | ---- |\n",
    " | 2.50 | 3.26 | 2.79 | 3.74 | 5.60 | 3.24 | 3.65 | 3.91 | 4.35 | 3.35 |\n",
    " | 5.67 | 5.38 | 3.54 | 5.10 | 3.66 | 3.01 | 3.96 | 4.98 | 4.56 | 5.00 |\n",
    " | 5.03 | 5.29 | 4.91 | 4.63 | 2.94 | 3.82 | 4.76 | 2.24 | 4.25 | 3.45 |\n",
    " | 3.14 | 4.64 | 4.56 | 4.61 | 2.68 | 3.61 | 5.46 | 2.83 | 4.84 | 4.31 |\n",
    " | 2.98 | 3.90 | 4.45 | 3.62 | 6.15 | 4.04 | 5.19 | 4.63 | 2.78 | 2.95 |\n",
    " | 3.65 | 4.49 | 3.52 | 4.07 | 4.16 | 5.56 | 2.69 | 6.69 | 1.26 | 3.14 |\n",
    " | 4.71 | 4.80 | 3.41 | 3.18 | 4.64 | 4.23 | 4.36 | 3.94 | 3.81 | 4.26 |\n",
    " | 2.92 | 2.87 | 2.08 | 3.09 | 3.60 | 2.93 | 3.85 | 4.66 | 4.70 | 3.61 |\n",
    " | 5.59 | 3.39 | 3.13 | 4.14 | 4.23 | 4.25 | 4.12 | 5.95 | 4.76 | 4.96 |\n",
    " | 2.27 | 3.77 | 5.25 | 3.05 | 3.20 | 5.22 | 3.84 | 2.24 | 4.75 | 3.07 |\n",
    "\n",
    "a. Construct 95% confidence interval estimate for the population mean days to resolve customer complaints,assuming a normal distribution.\n",
    "b. Interpret the interval constructed at a."
   ]
  },
  {
   "cell_type": "code",
   "execution_count": 70,
   "metadata": {},
   "outputs": [
    {
     "name": "stdout",
     "output_type": "stream",
     "text": [
      "Mean:  4.0\n",
      "SD:  1.0000666644445926\n",
      "\n",
      "95% confidence interval estimate for the population mean days to resolve customer complaints:  (3.8015650771770293, 4.198434922822971)\n"
     ]
    }
   ],
   "source": [
    "resolved_in_days = np.array([2.50, 3.26, 2.79, 3.74, 5.60, 3.24, 3.65, 3.91, 4.35, 3.35, \n",
    "                    5.67, 5.38, 3.54, 5.10, 3.66, 3.01, 3.96, 4.98, 4.56, 5.00, \n",
    "                    5.03, 5.29, 4.91, 4.63, 2.94, 3.82, 4.76, 2.24, 4.25, 3.45, \n",
    "                    3.14, 4.64, 4.56, 4.61, 2.68, 3.61, 5.46, 2.83, 4.84, 4.31, \n",
    "                    2.98, 3.90, 4.45, 3.62, 6.15, 4.04, 5.19, 4.63, 2.78, 2.95, \n",
    "                    3.65, 4.49, 3.52, 4.07, 4.16, 5.56, 2.69, 6.69, 1.26, 3.14, \n",
    "                    4.71, 4.80, 3.41, 3.18, 4.64, 4.23, 4.36, 3.94, 3.81, 4.26, \n",
    "                    2.92, 2.87, 2.08, 3.09, 3.60, 2.93, 3.85, 4.66, 4.70, 3.61, \n",
    "                    5.59, 3.39, 3.13, 4.14, 4.23, 4.25, 4.12, 5.95, 4.76, 4.96, \n",
    "                    2.27, 3.77, 5.25, 3.05, 3.20, 5.22, 3.84, 2.24, 4.75, 3.07])\n",
    "\n",
    "n = len(resolved_in_days)\n",
    "mean_resolved_in_days = np.mean(resolved_in_days)\n",
    "sd_resolbed_in_days = np.std(resolved_in_days, ddof=1)\n",
    "\n",
    "print('Mean: ', mean_resolved_in_days)\n",
    "print('SD: ', sd_resolbed_in_days)\n",
    "\n",
    "print('\\n95% confidence interval estimate for the population mean days to resolve customer complaints: ',\n",
    "     stats.t.interval(0.95 ,df = n-1 , loc = mean_resolved_in_days , scale = sd_resolbed_in_days/np.sqrt(n)))"
   ]
  },
  {
   "cell_type": "code",
   "execution_count": null,
   "metadata": {},
   "outputs": [],
   "source": []
  }
 ],
 "metadata": {
  "kernelspec": {
   "display_name": "Python 3",
   "language": "python",
   "name": "python3"
  },
  "language_info": {
   "codemirror_mode": {
    "name": "ipython",
    "version": 3
   },
   "file_extension": ".py",
   "mimetype": "text/x-python",
   "name": "python",
   "nbconvert_exporter": "python",
   "pygments_lexer": "ipython3",
   "version": "3.7.4"
  }
 },
 "nbformat": 4,
 "nbformat_minor": 2
}
